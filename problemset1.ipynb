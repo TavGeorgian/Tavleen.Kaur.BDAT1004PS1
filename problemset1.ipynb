{
 "cells": [
  {
   "cell_type": "markdown",
   "id": "20c14453",
   "metadata": {},
   "source": [
    "# Question 1\n",
    "What data type is each of the following (evaluate where necessary)?"
   ]
  },
  {
   "cell_type": "markdown",
   "id": "e20ae4fb",
   "metadata": {},
   "source": [
    "5"
   ]
  },
  {
   "cell_type": "code",
   "execution_count": 2,
   "id": "d70b2bc1",
   "metadata": {},
   "outputs": [
    {
     "name": "stdout",
     "output_type": "stream",
     "text": [
      "<class 'int'>\n"
     ]
    }
   ],
   "source": [
    "x=5;\n",
    "print(type(x))"
   ]
  },
  {
   "cell_type": "markdown",
   "id": "fd44890a",
   "metadata": {},
   "source": [
    "5.0"
   ]
  },
  {
   "cell_type": "code",
   "execution_count": 3,
   "id": "61813838",
   "metadata": {},
   "outputs": [
    {
     "name": "stdout",
     "output_type": "stream",
     "text": [
      "<class 'float'>\n"
     ]
    }
   ],
   "source": [
    "x=5.0;\n",
    "print(type(x))"
   ]
  },
  {
   "cell_type": "markdown",
   "id": "07a9797b",
   "metadata": {},
   "source": [
    " 5 > 1"
   ]
  },
  {
   "cell_type": "code",
   "execution_count": 4,
   "id": "9c01bdea",
   "metadata": {},
   "outputs": [
    {
     "name": "stdout",
     "output_type": "stream",
     "text": [
      "<class 'bool'>\n"
     ]
    }
   ],
   "source": [
    "x=5>1;\n",
    "print(type(x))"
   ]
  },
  {
   "cell_type": "markdown",
   "id": "31dce8fe",
   "metadata": {},
   "source": [
    "'5'"
   ]
  },
  {
   "cell_type": "code",
   "execution_count": 5,
   "id": "0b9aca55",
   "metadata": {},
   "outputs": [
    {
     "name": "stdout",
     "output_type": "stream",
     "text": [
      "<class 'str'>\n"
     ]
    }
   ],
   "source": [
    "x='5';\n",
    "print(type(x))"
   ]
  },
  {
   "cell_type": "markdown",
   "id": "aff466d1",
   "metadata": {},
   "source": [
    "5*2"
   ]
  },
  {
   "cell_type": "code",
   "execution_count": 6,
   "id": "9fe785e4",
   "metadata": {},
   "outputs": [
    {
     "name": "stdout",
     "output_type": "stream",
     "text": [
      "<class 'int'>\n"
     ]
    }
   ],
   "source": [
    "x=5*2;\n",
    "print(type(x))"
   ]
  },
  {
   "cell_type": "markdown",
   "id": "1a99d699",
   "metadata": {},
   "source": [
    "'5'*2"
   ]
  },
  {
   "cell_type": "code",
   "execution_count": 7,
   "id": "a5285da3",
   "metadata": {},
   "outputs": [
    {
     "name": "stdout",
     "output_type": "stream",
     "text": [
      "<class 'str'>\n"
     ]
    }
   ],
   "source": [
    "x='5'*2\n",
    "print(type(x))\n"
   ]
  },
  {
   "cell_type": "markdown",
   "id": "8ad24766",
   "metadata": {},
   "source": [
    "'5'+'2'"
   ]
  },
  {
   "cell_type": "code",
   "execution_count": null,
   "id": "ecd2df25",
   "metadata": {},
   "outputs": [],
   "source": [
    "x='5'+'2';\n",
    "print(type(x))"
   ]
  },
  {
   "cell_type": "markdown",
   "id": "ec949147",
   "metadata": {},
   "source": [
    "5/2"
   ]
  },
  {
   "cell_type": "code",
   "execution_count": 10,
   "id": "0743318f",
   "metadata": {},
   "outputs": [
    {
     "name": "stdout",
     "output_type": "stream",
     "text": [
      "<class 'float'>\n"
     ]
    }
   ],
   "source": [
    "x=5/2;\n",
    "print(type(x))"
   ]
  },
  {
   "cell_type": "markdown",
   "id": "0bcdae0f",
   "metadata": {},
   "source": [
    "5%2"
   ]
  },
  {
   "cell_type": "code",
   "execution_count": 11,
   "id": "8a0a3106",
   "metadata": {},
   "outputs": [
    {
     "name": "stdout",
     "output_type": "stream",
     "text": [
      "<class 'int'>\n"
     ]
    }
   ],
   "source": [
    "x=5%2\n",
    "print(type(x))"
   ]
  },
  {
   "cell_type": "markdown",
   "id": "a172539b",
   "metadata": {},
   "source": [
    "{5, 2, 1}"
   ]
  },
  {
   "cell_type": "code",
   "execution_count": 12,
   "id": "a4eede20",
   "metadata": {},
   "outputs": [
    {
     "name": "stdout",
     "output_type": "stream",
     "text": [
      "<class 'set'>\n"
     ]
    }
   ],
   "source": [
    "x= {5, 2, 1}\n",
    "print(type(x))"
   ]
  },
  {
   "cell_type": "markdown",
   "id": "40b3c840",
   "metadata": {},
   "source": [
    "5 == 3"
   ]
  },
  {
   "cell_type": "code",
   "execution_count": 13,
   "id": "0557539d",
   "metadata": {},
   "outputs": [
    {
     "name": "stdout",
     "output_type": "stream",
     "text": [
      "<class 'bool'>\n"
     ]
    }
   ],
   "source": [
    "x=5 == 3\n",
    "print(type(x))"
   ]
  },
  {
   "cell_type": "markdown",
   "id": "20681465",
   "metadata": {},
   "source": [
    "Pi (the number)"
   ]
  },
  {
   "cell_type": "code",
   "execution_count": 14,
   "id": "d0fac18d",
   "metadata": {},
   "outputs": [
    {
     "name": "stdout",
     "output_type": "stream",
     "text": [
      "<class 'float'>\n"
     ]
    }
   ],
   "source": [
    "import math\n",
    "print(type(math.pi))"
   ]
  },
  {
   "cell_type": "markdown",
   "id": "9eee5f02",
   "metadata": {},
   "source": [
    "# Question 2\n",
    "***Write (and evaluate) python expressions that answer these questions:***\n"
   ]
  },
  {
   "cell_type": "markdown",
   "id": "375cbe0f",
   "metadata": {},
   "source": [
    "**a. How many letters are there in 'Supercalifragilisticexpialidocious'?"
   ]
  },
  {
   "cell_type": "code",
   "execution_count": 15,
   "id": "8d1f2717",
   "metadata": {},
   "outputs": [
    {
     "name": "stdout",
     "output_type": "stream",
     "text": [
      "34\n"
     ]
    }
   ],
   "source": [
    "x=\"Supercalifragilisticexpialidocious\";\n",
    "print(len(x))"
   ]
  },
  {
   "cell_type": "markdown",
   "id": "e396bcf5",
   "metadata": {},
   "source": [
    "**b. Does 'Supercalifragilisticexpialidocious' contain 'ice' as a substring?"
   ]
  },
  {
   "cell_type": "code",
   "execution_count": 16,
   "id": "e2841730",
   "metadata": {},
   "outputs": [
    {
     "name": "stdout",
     "output_type": "stream",
     "text": [
      "True\n"
     ]
    }
   ],
   "source": [
    "x='Supercalifragilisticexpialidocious'\n",
    "print('ice' in x)"
   ]
  },
  {
   "cell_type": "markdown",
   "id": "b3731237",
   "metadata": {},
   "source": [
    "**c. Which of the following words is the longest: \n",
    "Supercalifragilisticexpialidocious, Honorificabilitudinitatibus, or Bababadalgharaghtakamminarronnkonn?\n"
   ]
  },
  {
   "cell_type": "code",
   "execution_count": 18,
   "id": "bf05f6e1",
   "metadata": {},
   "outputs": [
    {
     "name": "stdout",
     "output_type": "stream",
     "text": [
      "The longest word is orBababadalgharaghtakamminarronnkonn\n"
     ]
    }
   ],
   "source": [
    "words = [\"Supercalifragilisticexpialidocious\",\"Honorificabilitudinitatibus\",\"orBababadalgharaghtakamminarronnkonn\"]\n",
    "longestCount = 0\n",
    "longestWord = \"\"\n",
    "for x in words:\n",
    "    if(len(x)>longestCount):\n",
    "        longestWord = x\n",
    "print(\"The longest word is \" + longestWord)"
   ]
  },
  {
   "cell_type": "markdown",
   "id": "a7b7e868",
   "metadata": {},
   "source": [
    "**d.Which composer comes first in the dictionary: 'Berlioz', 'Borodin', 'Brian','Bartok', 'Bellini', 'Buxtehude', 'Bernstein'. Which one comes last?"
   ]
  },
  {
   "cell_type": "code",
   "execution_count": 19,
   "id": "7a3e9ea0",
   "metadata": {},
   "outputs": [
    {
     "name": "stdout",
     "output_type": "stream",
     "text": [
      "['Bartok', 'Bellini', 'Berlioz', 'Bernstein', 'Borodin', 'Brian', 'Buxtehude']\n"
     ]
    }
   ],
   "source": [
    "composers = ['Berlioz', 'Borodin', 'Brian','Bartok', 'Bellini', 'Buxtehude', 'Bernstein']\n",
    "composers=sorted(composers)\n",
    "print(composers)"
   ]
  },
  {
   "cell_type": "markdown",
   "id": "b0b15e98",
   "metadata": {},
   "source": [
    "# Question 3\n",
    "**Implement function triangleArea(a,b,c) that takes as input the lengths of the 3\n",
    "sides of a triangle and returns the area of the triangle. By Heron's formula, the area \n",
    "of a triangle with side lengths a, b, and c is\n",
    "s(s - a)(s -b)(s -c)\n",
    ", where \n",
    "s = (a+b+c)/2. \n",
    ">>> triangleArea(2,2,2)\n",
    "1.7320508075688772\n"
   ]
  },
  {
   "cell_type": "code",
   "execution_count": 1,
   "id": "c90fbd19",
   "metadata": {},
   "outputs": [
    {
     "name": "stdout",
     "output_type": "stream",
     "text": [
      "1.7320508075688772\n"
     ]
    }
   ],
   "source": [
    "import math\n",
    "def triangleArea(a, b,c):\n",
    "    s = ((a+b+c)/2)\n",
    "    area = math.sqrt(s*(s-a)*(s-b)*(s-c))\n",
    "    return area\n",
    "print(triangleArea(2,2,2))"
   ]
  },
  {
   "cell_type": "markdown",
   "id": "5bd439c7",
   "metadata": {},
   "source": [
    "# Question 4\n",
    "\n",
    "**Write a program in python to separate odd and even integers in separate arrays. Go \n",
    "to the editor\n",
    "Test Data :\n",
    "Input the number of elements to be stored in the array :5\n",
    "Input 5 elements in the array :\n",
    "element - 0 : 25\n",
    "element - 1 : 47\n",
    "element - 2 : 42\n",
    "element - 3 : 56\n",
    "element - 4 : 32\n",
    "Expected Output:\n",
    "The Even elements are:\n",
    "42 56 32\n",
    "The Odd elements are :\n",
    "25 47\n"
   ]
  },
  {
   "cell_type": "code",
   "execution_count": 6,
   "id": "5797306d",
   "metadata": {},
   "outputs": [
    {
     "name": "stdout",
     "output_type": "stream",
     "text": [
      "[42, 56, 32]\n",
      "[25, 47]\n"
     ]
    }
   ],
   "source": [
    "even_numbers=[]\n",
    "odd_numbers=[]\n",
    "elements=[25,47,42,56,32]\n",
    "for x in elements:\n",
    "    if(x%2==0):\n",
    "     even_numbers.append(x)\n",
    "    else:\n",
    "     odd_numbers.append(x)\n",
    "    \n",
    "print(even_numbers)\n",
    "print(odd_numbers)"
   ]
  },
  {
   "cell_type": "markdown",
   "id": "0b260034",
   "metadata": {},
   "source": [
    "# Question 5 \n",
    "**a. Write a function inside(x,y,x1,y1,x2,y2) that returns True or False \n",
    "depending on whether the point (x,y) lies in the rectangle with lower left \n",
    "corner (x1,y1) and upper right corner (x2,y2).\n",
    ">>> inside(1,1,0,0,2,3)\n",
    "True\n",
    ">>> inside(-1,-1,0,0,2,3)\n",
    "False"
   ]
  },
  {
   "cell_type": "code",
   "execution_count": 34,
   "id": "423b5d01",
   "metadata": {},
   "outputs": [
    {
     "name": "stdout",
     "output_type": "stream",
     "text": [
      "True\n",
      "False\n"
     ]
    }
   ],
   "source": [
    "def inside(x,y,x1,y1,x2,y2):\n",
    "#check x,y lies in the rectangle\n",
    "#x1 and x2 are lower left corner coordinates and x2 and y2 are upper right corner\n",
    "# result will return TRUE if lies inside, False when not !\n",
    " if (x > x1 and x < x2 and\n",
    "      y > y1 and y < y2):\n",
    "        return True\n",
    " else:\n",
    "        return False\n",
    "print(inside(1,1,0,0,2,3))\n",
    "print(inside(-1,-1,0,0,2,3))"
   ]
  },
  {
   "cell_type": "markdown",
   "id": "6eb5c4f5",
   "metadata": {},
   "source": [
    "**b. Use function inside() from part a. to write an expression that tests whether \n",
    "the point (1,1) lies in both of the following rectangles: one with lower left \n",
    "corner (0.3, 0.5) and upper right corner (1.1, 0.7) and the other with lower \n",
    "left corner (0.5, 0.2) and upper right corner (1.1, 2)."
   ]
  },
  {
   "cell_type": "code",
   "execution_count": 39,
   "id": "83731d90",
   "metadata": {},
   "outputs": [
    {
     "name": "stdout",
     "output_type": "stream",
     "text": [
      "False\n",
      "True\n"
     ]
    }
   ],
   "source": [
    "def inside(x,y,x1,y1,x2,y2):\n",
    "    #checking with given two sets of values of x,y, x1,x2,y1,y2\n",
    "    #1 set where x,y,x1,y1,x2,y2 are 1,1,0.3,0.5,1.1,0.7 \n",
    "    #2nd set where x,y,x1,y1,x2,y2 are 1,1,0.5,0.2,1.1,2\n",
    "    if (x > x1 and x < x2 and\n",
    "      y > y1 and y < y2):\n",
    "        return True\n",
    "    else:\n",
    "        return False\n",
    "print(inside(1,1,0.3,0.5,1.1,0.7))\n",
    "print(inside(1,1,0.5,0.2,1.1,2))"
   ]
  },
  {
   "cell_type": "markdown",
   "id": "e1196ff2",
   "metadata": {},
   "source": [
    "# Question 6\n",
    "**16. You can turn a word into pig-Latin using the following two rules (simplified):\n",
    "• If the word starts with a consonant, move that letter to the end and append \n",
    "'ay'. For example, 'happy' becomes 'appyhay' and 'pencil' becomes 'encilpay'.\n",
    "• If the word starts with a vowel, simply append 'way' to the end of the word. \n",
    "For example, 'enter' becomes 'enterway' and 'other' becomes 'otherway' . For \n",
    "our purposes, there are 5 vowels: a, e, i, o, u (so we count y as a consonant).\n",
    "\n",
    "**Write a function pig() that takes a word (i.e., a string) as input and returns its pig\u0002Latin form. Your function should still work if the input word contains upper case \n",
    "characters. Your output should always be lower case however. \n",
    ">>> pig('happy')\n",
    "'appyhay'\n",
    ">>> pig('Enter')\n",
    "'enterway'"
   ]
  },
  {
   "cell_type": "code",
   "execution_count": 40,
   "id": "5e3f71ff",
   "metadata": {},
   "outputs": [
    {
     "name": "stdout",
     "output_type": "stream",
     "text": [
      "Enter a word\n",
      "happy\n",
      "appyhay\n",
      "\n",
      "Enter another word\n",
      "enter\n",
      "enterway\n"
     ]
    }
   ],
   "source": [
    "def pig(word):  # pig function takes single argument (word), which refer what we want to convert to Pig Latin.\n",
    "    string=word  #takes a \"word\" as input and store in \"string\"\n",
    "    list_word=[]   # created an empty list called list_word to store each character of the input \"word\"\n",
    "    for x in string :\n",
    "        list_word.append(x)   # iterates through each character in the input \"word\" and appends each character to the list_word\n",
    "    store_word=\"\"             # empty string called store_word to store the final Pig Latin word\n",
    "    x=list_word[0]            # takes the first character of the input word and stores it in the variable x\n",
    "    \n",
    "    if(x=='a' or x=='e' or x=='i' or x=='o' or x=='u'):\n",
    "        list_word.append('way')   # checks if the first character x is a vowel (a, e, i, o, u). If it is, it appends \"way\" to the list_word\n",
    "    else:\n",
    "        list_word.pop(0) #if not vowel, it removes the character from list_word\n",
    "        list_word.append(x) #If the first character x is not a vowel,  appends it to the end of the list, and then appends \"ay\"\n",
    "        list_word.append('ay')\n",
    "    for x in list_word:\n",
    "            store_word +=x   #iterates through the updated list_word list and concatenates all the characters to form the final Pig Latin word, which is stored in the store_word variable.\n",
    "    return store_word\n",
    "\n",
    "print(\"Enter a word\")\n",
    "user_input= input() #user to enter a string, and it calls the pig function with the user's input, printing the Pig Latin version of the word.\n",
    "print(pig(user_input))\n",
    "print(\"\\nEnter another word\")\n",
    "user_input = input()\n",
    "print(pig(user_input))\n",
    "        "
   ]
  },
  {
   "cell_type": "markdown",
   "id": "aeb11e39",
   "metadata": {},
   "source": [
    "# Question 7\n",
    "**File bloodtype1.txt records blood-types of patients (A, B, AB, O or OO) at a clinic. \n",
    "Write a function bldcount() that reads the file with name name and reports (i.e., \n",
    "prints) how many patients there are in each bloodtype.\n",
    ">>> bldcount('bloodtype.txt')\n",
    "There are 10 patients of blood type A.\n",
    "There is one patient of blood type B.\n",
    "There are 10 patients of blood type AB.\n",
    "There are 12 patients of blood type O.\n",
    "There are no patients of blood type OO.\n"
   ]
  },
  {
   "cell_type": "code",
   "execution_count": 41,
   "id": "a79fe7cf",
   "metadata": {},
   "outputs": [
    {
     "name": "stdout",
     "output_type": "stream",
     "text": [
      "There are 15 patients with blood group A\n",
      "There are 1 patients with blood group B\n",
      "There are 13 patients with blood group AB\n",
      "There are 15 patients with blood group O\n",
      "There are 0 patients with blood group OO\n"
     ]
    }
   ],
   "source": [
    "#infile=open(\"bloodtype1.txt\",\"r\")\n",
    "#read_data = infile.read()\n",
    "read_data= \"AB AB B O A A AB O AB A O O A A A O O O AB O A A A A A AB AB A AB O AB O A O O O AB O AB AB AB A A O\"\n",
    "count=0             #variable count set to initial value as 0. This variable will be used to store the count of each blood type.\n",
    "list=read_data.split()  # read_data is split into individual blood types, and those blood types are stored in the list.\n",
    "blood_type=['A', 'B', 'AB', 'O', 'OO']  # contain the  blood types that one can have\n",
    "for x in blood_type:   # loop that iterates through each blood type in the blood_type list\n",
    "   count=list.count(x)   #Counts how many times the current blood type x appears in the \"list\" which contains the individual blood types from the read_data string\n",
    "   print(\"There are {0} patients with blood group {1}\".format(count,x))  # {0} and {1} are placeholders that are filled with the values of count and x ; using the .format() method.\n"
   ]
  },
  {
   "cell_type": "markdown",
   "id": "16c0a868",
   "metadata": {},
   "source": [
    "# Question 8\n",
    "**Write a function curconv() that takes as input:\n",
    "1. a currency represented using a string (e.g., 'JPY' for the Japanese Yen or \n",
    "'EUR' for the Euro)\n",
    "2. an amount\n",
    "and then converts and returns the amount in US dollars.\n",
    ">>> curconv('EUR', 100)\n",
    "122.96544\n",
    ">>> curconv('JPY', 100)\n",
    "1.241401\n",
    "\n",
    "The currency rates you will need are stored in file currencies.txt:\n",
    "AUD 1.0345157 Australian Dollar\n",
    "CHF 1.0237414 Swiss Franc\n",
    "CNY 0.1550176 Chinese Yuan\n",
    "DKK 0.1651442 Danish Krone\n",
    "EUR 1.2296544 Euro\n",
    "GBP 1.5550989 British Pound\n",
    "HKD 0.1270207 Hong Kong Dollar\n",
    "INR 0.0177643 Indian Rupee\n",
    "JPY 0.01241401 Japanese Yen\n",
    "MXN 0.0751848 Mexican Peso\n",
    "MYR 0.3145411 Malaysian Ringgit\n",
    "NOK 0.1677063 Norwegian Krone\n",
    "NZD 0.8003591 New Zealand Dollar\n",
    "PHP 0.0233234 Philippine Peso\n",
    "SEK 0.148269 Swedish Krona\n",
    "SGD 0.788871 Singapore Dollar\n",
    "THB 0.0313789 Thai Baht\n"
   ]
  },
  {
   "cell_type": "code",
   "execution_count": 47,
   "id": "0642d19a",
   "metadata": {},
   "outputs": [
    {
     "name": "stdout",
     "output_type": "stream",
     "text": [
      "Enter Currency\n",
      "EUR\n",
      "Enter Value\n",
      "100\n",
      "122.96544\n"
     ]
    }
   ],
   "source": [
    "def curcov(currency,value):\n",
    "        #infile=open(\"currencies.txt\",\"r\")\n",
    "        #read_file = infile.read() this will read the file \n",
    "        #list = read_file.split()  # converting string to list\n",
    "        list = ['AUD', '1.0345157', 'Australian', 'Dollar', 'CHF', '1.0237414', 'Swiss', 'Franc', 'CNY', '0.1550176', 'Chinese', 'Yuan', 'DKK', '0.1651442', 'Danish', 'Krone', 'EUR', '1.2296544', 'Euro', 'GBP', '1.5550989', 'British', 'Pound', 'HKD', '0.1270207', 'Hong', 'Kong', 'Dollar', 'INR', '0.0177643', 'Indian', 'Rupee', 'JPY', '0.01241401', 'Japanese', 'Yen', 'MXN', '0.0751848', 'Mexican', 'Peso', 'MYR', '0.3145411', 'Malaysian', 'Ringgit', 'NOK', '0.1677063', 'Norwegian', 'Krone', 'NZD', '0.8003591', 'New', 'Zealand', 'Dollar', 'PHP', '0.0233234', 'Philippine', 'Peso', 'SEK', '0.148269', 'Swedish', 'Krona', 'SGD', '0.788871', 'Singapore', 'Dollar', 'THB', '0.0313789', 'Thai', 'Baht']  #  structured such that it has currency codes (e.g., 'AUD'), conversion rates (e.g., '1.0345157'), and currency names (e.g., 'Australian Dollar') \n",
    "        CurrencyIndex = list.index(currency)  # It looks up where the input currency is located in the list and result, which will be stored in CurrencyIndex variable, refers to  position or index of that currency code in the list.\n",
    "        ConversionRate=list[CurrencyIndex+1]  # takes the value in the list \"list\" that comes right after the item located at the position represented by CurrencyIndex\n",
    "        calculate = float(ConversionRate) * float(value)\n",
    "        print(calculate)\n",
    "    \n",
    "print(\"Enter Currency\")\n",
    "currency=input()\n",
    "print(\"Enter Value\")\n",
    "value=input()\n",
    "curcov(currency,value)"
   ]
  },
  {
   "cell_type": "markdown",
   "id": "9aa13007",
   "metadata": {},
   "source": [
    "# Question 9\n",
    "**Each of the following will cause an exception (an error). Identify what type of \n",
    "exception each will cause.\n",
    "\n",
    "Trying to add incompatible variables, as in \n",
    "adding 6 + ‘a’\n",
    "\n",
    "Referring to the 12th item of a list that has only 10 \n",
    "items\n",
    "\n",
    "Using a value that is out of range for a function’s \n",
    "input, such as calling math.sqrt(-1.0)\n",
    "\n",
    "Using an undeclared variable, such as print(x)\n",
    "when x has not been defined \n",
    "\n",
    "Trying to open a file that does not exist, such as \n",
    "mistyping the file name or looking in the wrong \n",
    "directory\n"
   ]
  },
  {
   "cell_type": "code",
   "execution_count": 48,
   "id": "7d01c525",
   "metadata": {},
   "outputs": [
    {
     "ename": "TypeError",
     "evalue": "unsupported operand type(s) for +: 'int' and 'str'",
     "output_type": "error",
     "traceback": [
      "\u001b[1;31m---------------------------------------------------------------------------\u001b[0m",
      "\u001b[1;31mTypeError\u001b[0m                                 Traceback (most recent call last)",
      "Cell \u001b[1;32mIn[48], line 1\u001b[0m\n\u001b[1;32m----> 1\u001b[0m x\u001b[38;5;241m=\u001b[39m\u001b[38;5;241m6\u001b[39m\u001b[38;5;241m+\u001b[39m\u001b[38;5;124m'\u001b[39m\u001b[38;5;124ma\u001b[39m\u001b[38;5;124m'\u001b[39m\n\u001b[0;32m      2\u001b[0m \u001b[38;5;28mprint\u001b[39m(x)\n",
      "\u001b[1;31mTypeError\u001b[0m: unsupported operand type(s) for +: 'int' and 'str'"
     ]
    }
   ],
   "source": [
    "x=6+'a'\n",
    "print(x)"
   ]
  },
  {
   "cell_type": "markdown",
   "id": "863a7e7a",
   "metadata": {},
   "source": [
    "Answer : **unsupported operand type\n"
   ]
  },
  {
   "cell_type": "code",
   "execution_count": 49,
   "id": "083c1394",
   "metadata": {},
   "outputs": [
    {
     "ename": "IndexError",
     "evalue": "list index out of range",
     "output_type": "error",
     "traceback": [
      "\u001b[1;31m---------------------------------------------------------------------------\u001b[0m",
      "\u001b[1;31mIndexError\u001b[0m                                Traceback (most recent call last)",
      "Cell \u001b[1;32mIn[49], line 2\u001b[0m\n\u001b[0;32m      1\u001b[0m \u001b[38;5;28mlist\u001b[39m\u001b[38;5;241m=\u001b[39m[\u001b[38;5;241m0\u001b[39m,\u001b[38;5;241m1\u001b[39m,\u001b[38;5;241m2\u001b[39m,\u001b[38;5;241m3\u001b[39m,\u001b[38;5;241m4\u001b[39m,\u001b[38;5;241m5\u001b[39m,\u001b[38;5;241m6\u001b[39m,\u001b[38;5;241m7\u001b[39m,\u001b[38;5;241m8\u001b[39m,\u001b[38;5;241m9\u001b[39m]  \u001b[38;5;66;03m#creating a list which has 10 items\u001b[39;00m\n\u001b[1;32m----> 2\u001b[0m item\u001b[38;5;241m=\u001b[39m\u001b[38;5;28mlist\u001b[39m[\u001b[38;5;241m11\u001b[39m] \u001b[38;5;66;03m#accessing the 12th item by refering to the index/position in the list\u001b[39;00m\n\u001b[0;32m      3\u001b[0m \u001b[38;5;28mprint\u001b[39m(item)\n",
      "\u001b[1;31mIndexError\u001b[0m: list index out of range"
     ]
    }
   ],
   "source": [
    "list=[0,1,2,3,4,5,6,7,8,9]  #creating a list which has 10 items\n",
    "item=list[11] #accessing the 12th item by refering to the index/position in the list\n",
    "print(item)"
   ]
  },
  {
   "cell_type": "markdown",
   "id": "891ad877",
   "metadata": {},
   "source": [
    "Answer : **IndexError: list index out of range"
   ]
  },
  {
   "cell_type": "code",
   "execution_count": 50,
   "id": "882b779c",
   "metadata": {},
   "outputs": [
    {
     "ename": "ValueError",
     "evalue": "math domain error",
     "output_type": "error",
     "traceback": [
      "\u001b[1;31m---------------------------------------------------------------------------\u001b[0m",
      "\u001b[1;31mValueError\u001b[0m                                Traceback (most recent call last)",
      "Cell \u001b[1;32mIn[50], line 2\u001b[0m\n\u001b[0;32m      1\u001b[0m \u001b[38;5;28;01mimport\u001b[39;00m \u001b[38;5;21;01mmath\u001b[39;00m\n\u001b[1;32m----> 2\u001b[0m result \u001b[38;5;241m=\u001b[39m math\u001b[38;5;241m.\u001b[39msqrt(\u001b[38;5;241m-\u001b[39m\u001b[38;5;241m1.0\u001b[39m)\n",
      "\u001b[1;31mValueError\u001b[0m: math domain error"
     ]
    }
   ],
   "source": [
    "import math\n",
    "result = math.sqrt(-1.0)\n"
   ]
  },
  {
   "cell_type": "markdown",
   "id": "262c3622",
   "metadata": {},
   "source": [
    "Answer : **ValueError : math domain error"
   ]
  },
  {
   "cell_type": "code",
   "execution_count": 52,
   "id": "9774aba6",
   "metadata": {},
   "outputs": [
    {
     "ename": "NameError",
     "evalue": "name 'y' is not defined",
     "output_type": "error",
     "traceback": [
      "\u001b[1;31m---------------------------------------------------------------------------\u001b[0m",
      "\u001b[1;31mNameError\u001b[0m                                 Traceback (most recent call last)",
      "Cell \u001b[1;32mIn[52], line 1\u001b[0m\n\u001b[1;32m----> 1\u001b[0m \u001b[38;5;28mprint\u001b[39m(y)\n",
      "\u001b[1;31mNameError\u001b[0m: name 'y' is not defined"
     ]
    }
   ],
   "source": [
    "print(y)"
   ]
  },
  {
   "cell_type": "markdown",
   "id": "c1a5bb97",
   "metadata": {},
   "source": [
    "Answer : **NameError: name 'y' is not defined"
   ]
  },
  {
   "cell_type": "code",
   "execution_count": 53,
   "id": "37e2043f",
   "metadata": {},
   "outputs": [
    {
     "ename": "NameError",
     "evalue": "name 'file' is not defined",
     "output_type": "error",
     "traceback": [
      "\u001b[1;31m---------------------------------------------------------------------------\u001b[0m",
      "\u001b[1;31mNameError\u001b[0m                                 Traceback (most recent call last)",
      "Cell \u001b[1;32mIn[53], line 1\u001b[0m\n\u001b[1;32m----> 1\u001b[0m x\u001b[38;5;241m=\u001b[39m\u001b[38;5;28mopen\u001b[39m(file\u001b[38;5;241m.\u001b[39mtxt)\n\u001b[0;32m      2\u001b[0m content\u001b[38;5;241m=\u001b[39mx\u001b[38;5;241m.\u001b[39mread()\n",
      "\u001b[1;31mNameError\u001b[0m: name 'file' is not defined"
     ]
    }
   ],
   "source": [
    "x=open(file.txt)\n",
    "content=x.read()"
   ]
  },
  {
   "cell_type": "code",
   "execution_count": 54,
   "id": "1d631316",
   "metadata": {},
   "outputs": [
    {
     "ename": "FileNotFoundError",
     "evalue": "[Errno 2] No such file or directory: 'sample.txt'",
     "output_type": "error",
     "traceback": [
      "\u001b[1;31m---------------------------------------------------------------------------\u001b[0m",
      "\u001b[1;31mFileNotFoundError\u001b[0m                         Traceback (most recent call last)",
      "Cell \u001b[1;32mIn[54], line 1\u001b[0m\n\u001b[1;32m----> 1\u001b[0m infile \u001b[38;5;241m=\u001b[39m \u001b[38;5;28mopen\u001b[39m(\u001b[38;5;124m'\u001b[39m\u001b[38;5;124msample.txt\u001b[39m\u001b[38;5;124m'\u001b[39m)\n",
      "File \u001b[1;32m~\\anaconda3\\Lib\\site-packages\\IPython\\core\\interactiveshell.py:284\u001b[0m, in \u001b[0;36m_modified_open\u001b[1;34m(file, *args, **kwargs)\u001b[0m\n\u001b[0;32m    277\u001b[0m \u001b[38;5;28;01mif\u001b[39;00m file \u001b[38;5;129;01min\u001b[39;00m {\u001b[38;5;241m0\u001b[39m, \u001b[38;5;241m1\u001b[39m, \u001b[38;5;241m2\u001b[39m}:\n\u001b[0;32m    278\u001b[0m     \u001b[38;5;28;01mraise\u001b[39;00m \u001b[38;5;167;01mValueError\u001b[39;00m(\n\u001b[0;32m    279\u001b[0m         \u001b[38;5;124mf\u001b[39m\u001b[38;5;124m\"\u001b[39m\u001b[38;5;124mIPython won\u001b[39m\u001b[38;5;124m'\u001b[39m\u001b[38;5;124mt let you open fd=\u001b[39m\u001b[38;5;132;01m{\u001b[39;00mfile\u001b[38;5;132;01m}\u001b[39;00m\u001b[38;5;124m by default \u001b[39m\u001b[38;5;124m\"\u001b[39m\n\u001b[0;32m    280\u001b[0m         \u001b[38;5;124m\"\u001b[39m\u001b[38;5;124mas it is likely to crash IPython. If you know what you are doing, \u001b[39m\u001b[38;5;124m\"\u001b[39m\n\u001b[0;32m    281\u001b[0m         \u001b[38;5;124m\"\u001b[39m\u001b[38;5;124myou can use builtins\u001b[39m\u001b[38;5;124m'\u001b[39m\u001b[38;5;124m open.\u001b[39m\u001b[38;5;124m\"\u001b[39m\n\u001b[0;32m    282\u001b[0m     )\n\u001b[1;32m--> 284\u001b[0m \u001b[38;5;28;01mreturn\u001b[39;00m io_open(file, \u001b[38;5;241m*\u001b[39margs, \u001b[38;5;241m*\u001b[39m\u001b[38;5;241m*\u001b[39mkwargs)\n",
      "\u001b[1;31mFileNotFoundError\u001b[0m: [Errno 2] No such file or directory: 'sample.txt'"
     ]
    }
   ],
   "source": [
    "infile = open('sample.txt')"
   ]
  },
  {
   "cell_type": "markdown",
   "id": "46c1730b",
   "metadata": {},
   "source": [
    "Answer : **FileNotFoundError: [Errno 2] No such file or directory: 'sample.txt'"
   ]
  },
  {
   "cell_type": "markdown",
   "id": "9aac30fa",
   "metadata": {},
   "source": [
    "# Question 10\n",
    "Encryption is the process of hiding the meaning of a text by substituting letters in the \n",
    "message with other letters, according to some system. If the process is successful, no \n",
    "one but the intended recipient can understand the encrypted message. Cryptanalysis\n",
    "refers to attempts to undo the encryption, even if some details of the encryption are \n",
    "unknown (for example, if an encrypted message has been intercepted). The first step \n",
    "of cryptanalysis is often to build up a table of letter frequencies in the encrypted text. \n",
    "Assume that the string letters is already defined as \n",
    "'abcdefghijklmnopqrstuvwxyz'. Write a function called frequencies()\n",
    "that takes a string as its only parameter, and returns a list of integers, showing the \n",
    "number of times each character appears in the text. Your function may ignore any \n",
    "characters that are not in letters.\n",
    "\n",
    ">>> frequencies('The quick red fox got bored and went home.')\n",
    "[1, 1, 1, 3, 5, 1, 1, 2, 1, 0, 1, 0, 1, 2, 4, 0, 1, 2, 0, 2, \n",
    "1, 0, 1, 1, 0, 0]\n",
    ">>> frequencies('apple')"
   ]
  },
  {
   "cell_type": "code",
   "execution_count": 55,
   "id": "824c05fe",
   "metadata": {},
   "outputs": [
    {
     "name": "stdout",
     "output_type": "stream",
     "text": [
      "1\n",
      "1\n",
      "1\n",
      "3\n",
      "5\n",
      "1\n",
      "1\n",
      "2\n",
      "1\n",
      "0\n",
      "1\n",
      "0\n",
      "1\n",
      "2\n",
      "4\n",
      "0\n",
      "1\n",
      "2\n",
      "0\n",
      "2\n",
      "1\n",
      "0\n",
      "1\n",
      "1\n",
      "0\n",
      "0\n"
     ]
    }
   ],
   "source": [
    "def frequencies(inputString):  #defines a function and takes one input, which is a string\n",
    "    char_string = []  #empty list where we'll store each character from the input string.\n",
    "    GivenString = \"abcdefghijklmnopkrstuvwxyz\"\n",
    "\n",
    "    for x in inputString: #loop that goes through each character (x) in the input string \n",
    "        char_string.append(x) #inside the loop, it adds each character x to the char_string list\n",
    "    \n",
    "    for x in GivenString:  #going through each letter (x) in the GivenString\n",
    "        print(char_string.count(x))  # counts how many times the  x appears in the char_string\n",
    "        \n",
    "\n",
    "frequencies('The quick red fox got bored and went home')  # calls the frequencies function with the input string\n"
   ]
  },
  {
   "cell_type": "code",
   "execution_count": null,
   "id": "9f85752b",
   "metadata": {},
   "outputs": [],
   "source": []
  }
 ],
 "metadata": {
  "kernelspec": {
   "display_name": "Python 3 (ipykernel)",
   "language": "python",
   "name": "python3"
  },
  "language_info": {
   "codemirror_mode": {
    "name": "ipython",
    "version": 3
   },
   "file_extension": ".py",
   "mimetype": "text/x-python",
   "name": "python",
   "nbconvert_exporter": "python",
   "pygments_lexer": "ipython3",
   "version": "3.11.4"
  }
 },
 "nbformat": 4,
 "nbformat_minor": 5
}
